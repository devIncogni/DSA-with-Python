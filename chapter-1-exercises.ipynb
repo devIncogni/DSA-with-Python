{
 "cells": [
  {
   "cell_type": "markdown",
   "metadata": {},
   "source": [
    "# Python Premier\n",
    "# Exercises from Chapter 1 of DSA in Python"
   ]
  },
  {
   "cell_type": "markdown",
   "metadata": {},
   "source": [
    "## Reinforcement Exercises"
   ]
  },
  {
   "cell_type": "markdown",
   "metadata": {},
   "source": [
    "**R-1.1** Write a short Python function, is_multiple(n, m), that takes two integer values\n",
    "and returns True if n is a multiple of m,\n",
    "that is, n = mi for some integer i,\n",
    "and False otherwise.\n"
   ]
  },
  {
   "cell_type": "code",
   "execution_count": 1,
   "metadata": {},
   "outputs": [
    {
     "name": "stdout",
     "output_type": "stream",
     "text": [
      "False\n",
      "True\n",
      "False\n",
      "False\n"
     ]
    }
   ],
   "source": [
    "def is_multiple(n, m):\n",
    "    return True if n % m == 0 else False\n",
    "\n",
    "\n",
    "print(is_multiple(2, 4))\n",
    "print(is_multiple(4, 2))\n",
    "print(is_multiple(3, 7))\n",
    "print(is_multiple(7, 3))"
   ]
  },
  {
   "cell_type": "markdown",
   "metadata": {},
   "source": [
    "**R-1.2** Write a short Python function, is_even(k), that takes an integer value and\n",
    "returns True if k is even, and False otherwise. However, your function\n",
    "cannot use the multiplication, modulo, or division operators."
   ]
  },
  {
   "cell_type": "code",
   "execution_count": 15,
   "metadata": {},
   "outputs": [
    {
     "name": "stdout",
     "output_type": "stream",
     "text": [
      "False\n",
      "True\n"
     ]
    }
   ],
   "source": [
    "def is_even(k):\n",
    "    if k > 0:\n",
    "        while k >= 1:\n",
    "            k -= 2\n",
    "        if k == 0:\n",
    "            return True\n",
    "        else:\n",
    "            return False\n",
    "    elif k < 0:\n",
    "        while k <= -1:\n",
    "            k += 2\n",
    "        if k == 0:\n",
    "            return True\n",
    "        else:\n",
    "            return False\n",
    "    elif k == 0:\n",
    "        return True\n",
    "    else:\n",
    "        return False\n",
    "\n",
    "\n",
    "print(is_even(-15469))\n",
    "print(is_even(15788))"
   ]
  }
 ],
 "metadata": {
  "kernelspec": {
   "display_name": "Python 3",
   "language": "python",
   "name": "python3"
  },
  "language_info": {
   "codemirror_mode": {
    "name": "ipython",
    "version": 3
   },
   "file_extension": ".py",
   "mimetype": "text/x-python",
   "name": "python",
   "nbconvert_exporter": "python",
   "pygments_lexer": "ipython3",
   "version": "3.12.2"
  }
 },
 "nbformat": 4,
 "nbformat_minor": 2
}
